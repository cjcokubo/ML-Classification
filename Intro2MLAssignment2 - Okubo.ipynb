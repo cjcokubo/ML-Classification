{
 "cells": [
  {
   "cell_type": "markdown",
   "metadata": {},
   "source": [
    "<h2><center>Introduction to Machine Learning: Assignment 2</center></h2>\n",
    "\n",
    "__Given date:__ Monday September 27\n",
    "\n",
    "__Due date:__ Friday October 15"
   ]
  },
  {
   "cell_type": "markdown",
   "metadata": {},
   "source": [
    "#### Question 1 Least Absolute Shrinkage and Selection Operator \n",
    "\n",
    "__(13pts)__\n",
    "\n",
    "Learning a model through the OLS loss can be done very efficiently through either gradient descent or even through the Normal equations. The same is true for ridge regression. For the Lasso formulation however, the non differentiability of the absolute value at $0$ makes the learning more tricky.\n",
    "\n",
    "\n",
    "\n",
    "One approach, known as _ISTA_ (see Amir Beck and Marc Teboulle, _A Fast Iterative Shrinkage-Thresholding Algorithm for Linear Inverse Problems_) consists in combining traditional gradient descent steps with a projection onto the $\\ell_1$ norm ball. Concretely, for the LASSO objective \n",
    "\n",
    "\\begin{align}\n",
    "\\ell(\\boldsymbol \\beta) = \\|\\boldsymbol X\\boldsymbol \\beta - \\boldsymbol t\\|^2_2 + \\lambda \\|\\boldsymbol \\beta\\|_1\n",
    "\\end{align}\n",
    "\n",
    "where $\\boldsymbol \\beta = (\\beta_1, \\beta_2,\\ldots, \\beta_D)$ (note that we don't include the bias) and the feature vectors $\\left\\{\\boldsymbol  x_i\\right\\}_{i=1}^N$ (corresponding to the rows of the matrix $\\boldsymbol X$) as well as the targets $t_i$ are assumed to be centered, i.e.\n",
    "\\begin{align}\n",
    "\\boldsymbol x_{ij} \\leftarrow \\boldsymbol x_{ij}-  \\frac{1}{N}\\sum_{i=1}^{N} x_{ij}\\\\\n",
    "t_i \\leftarrow t_i - \\frac{1}{N}\\sum_{i=1}^N t_i\n",
    "\\end{align}\n",
    "\n",
    "(Note that this is equivalent to taking $\\beta_0 = \\frac{1}{N}\\sum_{i=1}^N t_i$)\n",
    "The ISTA update takes the form \n",
    "\n",
    "\\begin{align}\n",
    "\\boldsymbol \\beta^{k+1} \\leftarrow \\mathcal{T}_{\\lambda \\eta} (\\boldsymbol \\beta^{k} - 2\\eta \\mathbf{X}^T(\\mathbf{X}\\mathbf{\\beta} - \\mathbf{t}))\n",
    "\\end{align}\n",
    "\n",
    "where $\\mathcal{T}_{\\lambda \\eta}(\\mathbf{x})_i$ is the thresholding operator defined component-wise as\n",
    "\n",
    "\\begin{align}\n",
    "\\mathcal{T}_{\\lambda t}(\\mathbf{\\beta})_i = (|\\beta_i| - \\lambda t)_+ \\text{sign}(\\beta_i)\n",
    "\\end{align}\n",
    "\n",
    "In the equations above, $\\eta$ is an appropriate step size and $(x)_+ = \\max(x, 0)$ \n",
    "\n",
    "##### Question 1.1. (5pts)\n",
    "\n",
    "Complete the function 'ISTA' which must return a final estimate for the regression vector $\\mathbf{\\beta}$ given a feature matrix $\\mathbf{X}$, a target vector $\\mathbf{t}$ (the function should include the centering steps for $\\mathbf{x}_i$ and $t_i$) regularization weight $\\lambda$, and the choice for the learning rate $\\eta$. "
   ]
  },
  {
   "cell_type": "code",
   "execution_count": 1,
   "metadata": {},
   "outputs": [],
   "source": [
    "def ISTA(beta_init, X, t, lbda, eta):\n",
    "    \n",
    "    '''The function takes as input an initial guess for beta, a set \n",
    "    of feature vectors stored in X and their corresponding \n",
    "    targets stored in t, a regularization weight lbda, \n",
    "    step size parameter eta and must return the \n",
    "    regression weights following from the minimization of \n",
    "    the LASSO objective'''\n",
    "    \n",
    "    beta_LASSO = np.zeros((np.shape(X)[1], 1))\n",
    "    signs = np.zeros((np.shape(X)[1], 1))\n",
    "\n",
    "    # add your code here\n",
    "    sign_fxn = lambda a: -1 if a<0 else 1\n",
    "    \n",
    "    for i in range(1000):\n",
    "        update = beta_LASSO - 2*eta*np.matmul(np.transpose(X), np.matmul(X, beta_LASSO) - t.reshape(-1, 1))\n",
    "        \n",
    "        for j in range(len(beta_LASSO)):\n",
    "            signs[j][0] = sign_fxn(beta_LASSO[j][0])\n",
    "            beta_LASSO = np.multiply((abs(update) - lbda*eta), signs)\n",
    "            \n",
    "    return beta_LASSO"
   ]
  },
  {
   "cell_type": "markdown",
   "metadata": {},
   "source": [
    "##### Question 1.2.  (3pts)\n",
    "\n",
    "Apply your algorithm to the data (in red) given below for polynomial features up to degree 8-10 and for various values of $\\lambda$. Display the result on top of the true model (in blue)."
   ]
  },
  {
   "cell_type": "code",
   "execution_count": 2,
   "metadata": {},
   "outputs": [
    {
     "data": {
      "image/png": "[encoded data removed]",
      "text/plain": [
       "<Figure size 432x288 with 1 Axes>"
      ]
     },
     "metadata": {
      "needs_background": "light"
     },
     "output_type": "display_data"
    }
   ],
   "source": [
    "import numpy as np\n",
    "import matplotlib.pyplot as plt\n",
    "\n",
    "x = np.linspace(0,1,20)\n",
    "xtrue = np.linspace(0,1,100)\n",
    "t_true = 0.1 + 1.3*xtrue\n",
    "\n",
    "t = 0.1 + 1.3*x\n",
    "tnoisy  = t+np.random.normal(0,.1,len(x))\n",
    "\n",
    "plt.scatter(x, tnoisy, c='r')\n",
    "plt.plot(xtrue, t_true)\n",
    "\n",
    "# add your code here\n",
    "X_tilde = np.hstack((np.ones((len(x), 1)), x.reshape(-1, 1)))\n",
    "beta_init = 0\n",
    "X = x.reshape(-1, 1)\n",
    "target = tnoisy.reshape(-1, 1)\n",
    "eta = 0.01\n",
    "\n",
    "# Trying different lambdas\n",
    "lbda = 0.01\n",
    "beta_LASSO_1 = ISTA(beta_init, X, target, lbda, eta)\n",
    "\n",
    "lbda = 0.05\n",
    "beta_LASSO_2 = ISTA(beta_init, X, target, lbda, eta)\n",
    "\n",
    "lbda = 0.1\n",
    "beta_LASSO_3 = ISTA(beta_init, X, target, lbda, eta)\n",
    "\n",
    "# print(beta_LASSO_1, beta_LASSO_2, beta_LASSO_3)\n",
    "prediction_1 = np.matmul(X, beta_LASSO_1)\n",
    "prediction_2 = np.matmul(X, beta_LASSO_2)\n",
    "prediction_3 = np.matmul(X, beta_LASSO_3)\n",
    "\n",
    "plt.plot(x, prediction_1, c='g')\n",
    "plt.plot(x, prediction_2, c='m')\n",
    "plt.plot(x, prediction_3, c='y')\n",
    "plt.show()"
   ]
  },
  {
   "cell_type": "markdown",
   "metadata": {},
   "source": [
    "##### Question 1.3 FISTA (3pts)\n",
    "\n",
    "It is possible to improve the ISTA updates by combining them with Nesterov accelerated gradient descent. The resulting update, known as FISTA can read, for a constant step size, by \n",
    "letting $\\mathbf{y}^{(1)} = {\\boldsymbol \\beta}^{(0)}$, $\\eta^1 = 1$ and then using \n",
    "\n",
    "\\begin{align}\n",
    "\\left\\{\n",
    "\\begin{array}{l}\n",
    "&\\boldsymbol{\\beta}^{k} = \\text{ISTA}(\\mathbf{y}^{k})\\\\\n",
    "&\\eta^{(k+1)} = \\frac{1+\\sqrt{1+4(\\eta^{(k)})^2}}{2}\\\\\n",
    "&\\mathbf{y}^{(k+1)} = {\\boldsymbol\\beta}^{(k)} + \\left(\\frac{\\eta^{(k)} - 1}{\\eta^{(k+1)}}\\right)\\left({\\boldsymbol\\beta}^{(k)} - {\\boldsymbol\\beta}^{(k-1)}\\right)\\end{array}\\right.\n",
    "\\end{align}\n",
    "\n",
    "Here $\\text{ISTA}$ denotes a __single__ ISTA update.\n",
    "\n",
    "Complete the function below so that it performs the FISTA iterations. Then apply it to the data given in question 1.2."
   ]
  },
  {
   "cell_type": "code",
   "execution_count": 3,
   "metadata": {},
   "outputs": [
    {
     "data": {
      "image/png": "[encoded data removed]",
      "text/plain": [
       "<Figure size 432x288 with 1 Axes>"
      ]
     },
     "metadata": {
      "needs_background": "light"
     },
     "output_type": "display_data"
    }
   ],
   "source": [
    "def FISTA(X, t, eta0, beta0, lbda):\n",
    "    \n",
    "    '''function should return the solution to the minimization of the\n",
    "    the LASSO objective ||X*beta - t||_2^2 + lambda*||beta||_1\n",
    "    by means of FISTA updates'''\n",
    "    \n",
    "    def single_ISTA(beta_LASSO, X, t, lbda, eta):\n",
    "        # beta_LASSO -= 2*eta*np.matmul(np.transpose(X), np.matmul(X, beta_LASSO) - t.reshape(-1, 1))\n",
    "        beta_LASSO -= 2*eta*np.dot(np.transpose(X), np.dot(X, beta_LASSO) - t.reshape(-1, 1))\n",
    "        sign_fxn = lambda a: -1 if a<0 else 1\n",
    "        for i in range(len(beta_LASSO)):\n",
    "            beta_LASSO[i] = np.max((np.abs(beta_LASSO[i]) - lbda*eta), 0) * sign_fxn(beta_LASSO[i][0])\n",
    "        return beta_LASSO\n",
    "    \n",
    "    # Declarations\n",
    "    max_iter = 1000\n",
    "    beta = beta0\n",
    "    y = beta0\n",
    "    eta = eta0\n",
    "    \n",
    "    for i in range(max_iter):\n",
    "        beta_1 = single_ISTA(y, X, t, lbda, 0.01)\n",
    "        eta_1 = (1+np.sqrt(1 + 4*eta**2))/2\n",
    "        y_1 = beta_1 + (eta-1)/eta_1 * (beta_1 - beta)\n",
    "        \n",
    "        beta = beta_1\n",
    "        eta = eta_1\n",
    "        y = y_1  \n",
    "    return beta\n",
    "    \n",
    "# Plotting results on same data as Q1.2 to check\n",
    "x = np.linspace(0,1,20)\n",
    "xtrue = np.linspace(0,1,100)\n",
    "t_true = 0.1 + 1.3*xtrue\n",
    "t = 0.1 + 1.3*x\n",
    "tnoisy  = t+np.random.normal(0,.1,len(x))\n",
    "plt.scatter(x, tnoisy, c='r')\n",
    "plt.plot(xtrue, t_true)\n",
    "\n",
    "# Plotting FISTA curve\n",
    "from sklearn.preprocessing import PolynomialFeatures\n",
    "poly = PolynomialFeatures(9)\n",
    "X_tilde = poly.fit_transform(x.reshape(-1, 1))\n",
    "\n",
    "lbda = 0.05\n",
    "eta = 1\n",
    "beta = np.zeros((np.shape(X_tilde)[1], 1))\n",
    "beta_prediction = FISTA(X_tilde, tnoisy.reshape(-1, 1), eta, beta, lbda)\n",
    "prediction = np.dot(X_tilde, beta_prediction)\n",
    "plt.plot(x, prediction, c='y')\n",
    "plt.show()"
   ]
  },
  {
   "cell_type": "markdown",
   "metadata": {},
   "source": [
    "##### Question 1.4. (2pts)\n",
    "\n",
    "Compare the ISTA and FISTA updates by plotting the evolution of the loss $\\ell(\\mathbf{\\beta})$ as a function of the iterations for both approaches. Take a sufficient number of iterations (1000 - 10,000)"
   ]
  },
  {
   "cell_type": "code",
   "execution_count": 4,
   "metadata": {},
   "outputs": [
    {
     "data": {
      "image/png": "[encoded data removed]",
      "text/plain": [
       "<Figure size 432x288 with 1 Axes>"
      ]
     },
     "metadata": {
      "needs_background": "light"
     },
     "output_type": "display_data"
    }
   ],
   "source": [
    "import matplotlib.pyplot as plt\n",
    "import math\n",
    "\n",
    "max_iter = 100\n",
    "FISTA_loss = np.zeros((max_iter, 1))\n",
    "ISTA_loss = np.zeros((max_iter, 1))\n",
    "\n",
    "beta_init = 0\n",
    "lbda = 0.01\n",
    "eta = 0.01\n",
    "\n",
    "FISTA_loss = []\n",
    "ISTA_loss = []\n",
    "for i in range(max_iter):\n",
    "    x = np.linspace(0,1,i)\n",
    "    X = x.reshape(-1, 1)\n",
    "    t = 0.1 + 1.3*x\n",
    "    # print(X)\n",
    "    \n",
    "    ISTA_beta_LASSO = ISTA(beta_init, X, t, lbda, eta)\n",
    "    ISTA_loss_i = np.square(np.sum(np.dot(X, ISTA_beta_LASSO) -(t.reshape([-1,1])))) + lbda * np.sum(abs(ISTA_beta_LASSO))\n",
    "    ISTA_loss.append(ISTA_loss_i)\n",
    "    \n",
    "    # FISTA_beta_LASSO = FISTA(X, t.reshape(-1,1), eta, beta, lbda) # Causes error\n",
    "    # FISTA_loss_i = np.sum((np.dot(X, FISTA_beta_LASSO) - t.reshape([-1,1])) ** 2) + lbda * np.sum(abs(FISTA_beta_LASSO))\n",
    "    # FISTA_loss.append(FISTA_loss_i)\n",
    "\n",
    "# plt.plot(FISTA_loss) # Unable to plot because of unresolved error on FISTA_beta_LASSO call\n",
    "plt.plot(ISTA_loss)\n",
    "plt.show()"
   ]
  },
  {
   "cell_type": "markdown",
   "metadata": {},
   "source": [
    "#### Question 2. Classification Trees\n",
    "\n",
    "__(10pts)__\n",
    "\n",
    "When the data is not easily separable, it remains possible to learn a tree based classifier. For a dataset that consists of pairs $\\left\\{(\\mathbf{x}_i, t_i)\\right\\}_{i=1, \\ldots, N}$ where $\\mathbf{x}_i = (x_{i1}, x_{i2})\\in \\mathbb{R}^2$. We start with all the data in a single class. We then consider a split point $(j,s)$ such that it defines the two regions $R_1(j,s) = \\left\\{x|x_j\\leq s\\right\\}$ and $R_2(j, s) = \\left\\{x|x_j>s\\right\\}$\n",
    "\n",
    "In general we seek the splitting variables $j$ and split point $s$ that solve \n",
    "\\begin{align}\n",
    "\\min_{j, s} \\left[\\min_{c_1} \\sum_{\\mathbf{x}_i\\in R_1(j, s)} (t_i - c_1)^2 + \\min_{c_2} \\sum_{\\mathbf{x}_i\\in R_2(j, s)} (t_i - c_2)^2\\right]\n",
    "\\end{align}\n",
    "\n",
    "For which the inner minimization is solved by \n",
    "\\begin{align}\n",
    "\\hat{c}_1 = \\text{average}(t_i|\\mathbf{x}_i \\in R_1(j, s))\n",
    "\\end{align}\n",
    "and \n",
    "\\begin{align}\n",
    "\\hat{c}_2 = \\text{average}(t_i|\\mathbf{x}_i \\in R_2(j, s))\n",
    "\\end{align}\n",
    "\n",
    "Having found the best split, we partition the data into the corresponding two regions and repeat the splitting process on each of the two regions. Note that $s$ should always be taken amond the training points.\n",
    "\n",
    "\n",
    "##### Question 2.1. (10pts)\n",
    "\n",
    "Build a classification tree for the dataset given below with a stopping criterion corresponding to a target that is constant (or almost) across regions. Then plot the result with meshgrid and contourf. "
   ]
  },
  {
   "cell_type": "code",
   "execution_count": 5,
   "metadata": {},
   "outputs": [
    {
     "name": "stderr",
     "output_type": "stream",
     "text": [
      "/opt/anaconda3/lib/python3.7/site-packages/numpy/lib/function_base.py:393: RuntimeWarning: Mean of empty slice.\n",
      "  avg = a.mean(axis)\n",
      "/opt/anaconda3/lib/python3.7/site-packages/numpy/core/_methods.py:161: RuntimeWarning: invalid value encountered in double_scalars\n",
      "  ret = ret.dtype.type(ret / rcount)\n"
     ]
    },
    {
     "name": "stdout",
     "output_type": "stream",
     "text": [
      "Horizontal split_points:  [array([0.54550691, 0.52919708]), array([0.17453917, 0.42408759]), array([0.75979263, 0.55255474]), array([0.80587558, 0.42408759])]\n",
      "Vertical split_points:  [array([0.54550691, 0.52919708]), array([0.57085253, 0.31605839]), array([0.55702765, 0.68686131]), array([0.61463134, 0.5       ])]\n"
     ]
    },
    {
     "data": {
      "image/png": "[encoded data removed]",
      "text/plain": [
       "<Figure size 432x288 with 1 Axes>"
      ]
     },
     "metadata": {
      "needs_background": "light"
     },
     "output_type": "display_data"
    }
   ],
   "source": [
    "import matplotlib.pyplot as plt\n",
    "import numpy as np\n",
    "import scipy.io\n",
    "\n",
    "class1 = scipy.io.loadmat('points_Assignment2_Ex2_class1.mat')['points_Assignment2_Ex2_class1']\n",
    "class2 = scipy.io.loadmat('points_Assignment2_Ex2_class2.mat')['points_Assignment2_Ex2_class2']\n",
    "class3 = scipy.io.loadmat('points_Assignment2_Ex2_class3.mat')['points_Assignment2_Ex2_class3']\n",
    "class4 = scipy.io.loadmat('points_Assignment2_Ex2_class4.mat')['points_Assignment2_Ex2_class4']\n",
    "\n",
    "plt.scatter(class1[:,0], class1[:,1])\n",
    "plt.scatter(class2[:,0], class2[:,1])\n",
    "plt.scatter(class3[:,0], class3[:,1])\n",
    "plt.scatter(class4[:,0], class4[:,1])\n",
    "\n",
    "# add your code here\n",
    "x1, targets1 = class1[:,0], class1[:,1]\n",
    "x2, targets2 = class2[:,0], class2[:,1]\n",
    "x3, targets3 = class3[:,0], class3[:,1]\n",
    "x4, targets4 = class4[:,0], class4[:,1]\n",
    "\n",
    "# Outputs coordinates of split point\n",
    "def get_split_point(all_x, all_targets, current_class, region):\n",
    "    # all_x = np.concatenate(np.array(all_x), axis=None)\n",
    "    # all_targets = np.concatenate(np.array(all_targets), axis=None) \n",
    "    min_sum = 1000000 # dummy minimum inner sum; will get replaced once it enters loop\n",
    "    j, s = 0, 0\n",
    "    \n",
    "    for i in range(len(current_class)):\n",
    "        current_x = current_class[:,0][i]\n",
    "        current_t = current_class[:,1][i]\n",
    "        \n",
    "        if region == 'top/bottom':\n",
    "            c_1 = np.average(all_targets[np.where(all_targets <= current_t)])\n",
    "            c_2 = np.average(all_targets[np.where(all_targets > current_t)])\n",
    "            inner_sum = (current_t - c_1)**2 + (current_t - c_2)**2\n",
    "        elif region == 'left/right':\n",
    "            c_1 = np.average(all_x[np.where(all_x <= current_x)])\n",
    "            c_2 = np.average(all_x[np.where(all_x > current_x)])\n",
    "            inner_sum = (current_x - c_1)**2 + (current_x - c_2)**2\n",
    "        else:\n",
    "            raise ValueError\n",
    "        \n",
    "        if inner_sum <= min_sum:\n",
    "            min_sum = inner_sum\n",
    "            j = current_x\n",
    "            s = current_t\n",
    "        else:\n",
    "            continue \n",
    "    return j, s\n",
    "\n",
    "# Creating Class Boundaries\n",
    "all_x = (x1, x2, x3, x4)\n",
    "all_x = np.concatenate(np.array(all_x), axis=None)\n",
    "all_targets = (targets1, targets2, targets3, targets4)\n",
    "all_targets = np.concatenate(np.array(all_targets), axis=None) \n",
    "classes = (class1, class2, class3, class4)\n",
    "regions = ('top/bottom', 'left/right')\n",
    "\n",
    "h_split_points = []\n",
    "v_split_points = []\n",
    "for class_n in classes:\n",
    "    for region in regions:\n",
    "        j, s = get_split_point(all_x, all_targets, class_n, region)\n",
    "        if region == 'top/bottom': h_split_points.append(np.array([j, s]))\n",
    "        else: v_split_points.append(np.array([j, s]))\n",
    "            \n",
    "# Printing out the split points\n",
    "print('Horizontal split_points: ', h_split_points)\n",
    "print('Vertical split_points: ', v_split_points)\n",
    "\n",
    "x1min, x1max = np.min(all_x), np.max(all_x)\n",
    "x2min, x2max = np.min(all_targets), np.max(all_targets)\n",
    "\n",
    "# generate set of equispaced points\n",
    "x1_mesh = np.linspace(x1min, x1max, 50)\n",
    "x2_mesh = np.linspace(x2min, x2max, 50)\n",
    "xx1, xx2 = np.meshgrid(x1_mesh, x2_mesh)\n",
    "Xprediction = np.hstack((xx1.reshape(-1,1), xx2.reshape(-1,1)))\n",
    "\n",
    "# Helper Functions\n",
    "def find_nearest(array, x, y):\n",
    "    array = np.asarray(array)\n",
    "    min_x, min_y = 1, 1\n",
    "    min_dist = 10\n",
    "    for point in array:\n",
    "        dist = np.sqrt((point[0] - x)**2 + (point[1] - y)**2)\n",
    "        if dist < min_dist: \n",
    "            min_dist = dist\n",
    "            min_x, min_y = point[0], point[1]\n",
    "    return min_x, min_y\n",
    "\n",
    "# top left region = -2; bottom left region = -1; top right region = 2; bottom right region = 1\n",
    "def predictor(h_split_points, v_split_points, Xprediction): \n",
    "    prediction_array = []\n",
    "    for i in range(len(Xprediction)):\n",
    "        prediction = 1\n",
    "        x = Xprediction[i][0]\n",
    "        y = Xprediction[i][1]\n",
    "        min_hx, min_hy = find_nearest(h_split_points, x, y)\n",
    "        min_vx, min_vy = find_nearest(v_split_points, x, y)\n",
    "        \n",
    "        if x <= min_vx:\n",
    "            prediction *= -1\n",
    "        if y > min_hy:\n",
    "            prediction *= 2\n",
    "        prediction_array.append(prediction)\n",
    "\n",
    "    return prediction_array\n",
    "\n",
    "\n",
    "# Plotting the Class Boundaries\n",
    "prediction_on_grid = np.array(predictor(h_split_points, v_split_points, Xprediction))\n",
    "row_len = len(x1_mesh)\n",
    "prediction_on_grid = np.array(np.array_split(prediction_on_grid, row_len))\n",
    "\n",
    "from matplotlib.colors import ListedColormap\n",
    "cm_bright = ListedColormap(['#FF0000', '#0000FF', '#00FF00', '#FFFF00'])\n",
    "plt.contourf(xx1, xx2, prediction_on_grid.reshape(np.shape(xx1)), levels=4, cmap = cm_bright, alpha=0.2)\n",
    "\n",
    "# Drawing lines over split points\n",
    "# for h in h_split_points:\n",
    "#     plt.axhline(y=h[1], color='y', linestyle='-')\n",
    "# for v in v_split_points:\n",
    "#     plt.axvline(x=v[0], color='m', linestyle='-')\n",
    "    \n",
    "plt.show()"
   ]
  },
  {
   "cell_type": "code",
   "execution_count": null,
   "metadata": {},
   "outputs": [],
   "source": []
  }
 ],
 "metadata": {
  "kernelspec": {
   "display_name": "Python 3 (ipykernel)",
   "language": "python",
   "name": "python3"
  },
  "language_info": {
   "codemirror_mode": {
    "name": "ipython",
    "version": 3
   },
   "file_extension": ".py",
   "mimetype": "text/x-python",
   "name": "python",
   "nbconvert_exporter": "python",
   "pygments_lexer": "ipython3",
   "version": "3.7.6"
  }
 },
 "nbformat": 4,
 "nbformat_minor": 4
}
